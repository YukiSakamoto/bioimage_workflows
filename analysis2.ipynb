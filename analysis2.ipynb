{
  "nbformat": 4,
  "nbformat_minor": 0,
  "metadata": {
    "celltoolbar": "Tags",
    "kernelspec": {
      "display_name": "Python 3",
      "language": "python",
      "name": "python3"
    },
    "language_info": {
      "codemirror_mode": {
        "name": "ipython",
        "version": 3
      },
      "file_extension": ".py",
      "mimetype": "text/x-python",
      "name": "python",
      "nbconvert_exporter": "python",
      "pygments_lexer": "ipython3",
      "version": "3.8.3"
    },
    "colab": {
      "name": "analysis2.ipynb",
      "provenance": []
    }
  },
  "cells": [
    {
      "cell_type": "code",
      "metadata": {
        "id": "s6HX8aB5NVLs"
      },
      "source": [
        "import mlflow\n",
        "mlflow.start_run(run_name=\"analysis2\", nested=False)"
      ],
      "execution_count": null,
      "outputs": []
    },
    {
      "cell_type": "code",
      "metadata": {
        "tags": [
          "parameters"
        ],
        "id": "hJzb6IbgNVLy"
      },
      "source": [
        "num_samples = 20\n",
        "interval = 33.0e-3\n",
        "seed = 123\n",
        "threshold = 6.0"
      ],
      "execution_count": null,
      "outputs": []
    },
    {
      "cell_type": "code",
      "metadata": {
        "id": "QuXaXv7JNVL2"
      },
      "source": [
        "from mlflow import log_metric, log_param, log_artifacts\n",
        "log_param(\"num_samples\", num_samples)\n",
        "log_param(\"interval\", interval)\n",
        "log_param(\"seed\", seed)\n",
        "log_param(\"threshold\", threshold)"
      ],
      "execution_count": null,
      "outputs": []
    },
    {
      "cell_type": "code",
      "metadata": {
        "id": "Ie8vNeSmNVL6"
      },
      "source": [
        "import pathlib\n",
        "inputpath = pathlib.Path(\"./artifacts\")\n",
        "artifacts = pathlib.Path(\"./artifacts\")\n",
        "artifacts.mkdir(parents=True, exist_ok=True)"
      ],
      "execution_count": null,
      "outputs": []
    },
    {
      "cell_type": "code",
      "metadata": {
        "id": "FAGv0PGmNVL-"
      },
      "source": [
        "import scopyon\n",
        "config = scopyon.Configuration(filename=inputpath / \"config.yaml\")\n",
        "pixel_length = config.default.detector.pixel_length / config.default.magnification"
      ],
      "execution_count": null,
      "outputs": []
    },
    {
      "cell_type": "code",
      "metadata": {
        "id": "cuFkUV7QNVMB"
      },
      "source": [
        "import numpy"
      ],
      "execution_count": null,
      "outputs": []
    },
    {
      "cell_type": "code",
      "metadata": {
        "id": "T0djbcchNVME"
      },
      "source": [
        "def trace_spots(spots, threshold=numpy.inf, ndim=2):\n",
        "    observation_vec = []\n",
        "    lengths = []\n",
        "    for i in range(len(spots[0])):\n",
        "        iprev = i\n",
        "        for j in range(1, len(spots)):\n",
        "            displacements = numpy.power(spots[j][:, : ndim] - spots[j - 1][iprev, : ndim], 2).sum(axis=1)\n",
        "            inext = displacements.argmin()\n",
        "            displacement = numpy.sqrt(displacements[inext])\n",
        "            if displacement > threshold:\n",
        "                if j > 1:\n",
        "                    lengths.append(j - 1)\n",
        "                break\n",
        "            intensity = spots[j - 1][iprev, ndim]\n",
        "            observation_vec.append([displacement, intensity])\n",
        "            iprev = inext\n",
        "        else:\n",
        "            lengths.append(len(spots) - 1)\n",
        "    return observation_vec, lengths"
      ],
      "execution_count": null,
      "outputs": []
    },
    {
      "cell_type": "code",
      "metadata": {
        "id": "T-wCb0w7NVMH"
      },
      "source": [
        "observation_vec = []\n",
        "lengths = []\n",
        "ndim = 2\n",
        "for i in range(num_samples):\n",
        "    spots_ = numpy.load(inputpath / f\"spots{i:03d}.npy\")\n",
        "    t = spots_[0, 0]\n",
        "    spots = [[spots_[0, 1: ]]]\n",
        "    for row in spots_[1: ]:\n",
        "        if row[0] == t:\n",
        "            spots[-1].append(row[1: ])\n",
        "        else:\n",
        "            t = row[0]\n",
        "            spots[-1] = numpy.asarray(spots[-1])\n",
        "            spots.append([row[1: ]])\n",
        "    else:\n",
        "        spots[-1] = numpy.asarray(spots[-1])\n",
        "    # print(spots)\n",
        "\n",
        "    observation_vec_, lengths_ = trace_spots(spots, threshold=threshold, ndim=ndim)\n",
        "    observation_vec.extend(observation_vec_)\n",
        "    lengths.extend(lengths_)\n",
        "observation_vec = numpy.array(observation_vec)"
      ],
      "execution_count": null,
      "outputs": []
    },
    {
      "cell_type": "code",
      "metadata": {
        "id": "WiBy2LjqNVMJ"
      },
      "source": [
        "print(len(lengths), sum(lengths))"
      ],
      "execution_count": null,
      "outputs": []
    },
    {
      "cell_type": "code",
      "metadata": {
        "id": "D_xplpXLNVML"
      },
      "source": [
        "import plotly.graph_objects as go\n",
        "from plotly.subplots import make_subplots"
      ],
      "execution_count": null,
      "outputs": []
    },
    {
      "cell_type": "code",
      "metadata": {
        "id": "znDadQxXNVMO"
      },
      "source": [
        "fig = make_subplots(rows=1, cols=2, subplot_titles=['Square Displacement', 'Intensity'])\n",
        "\n",
        "fig.add_trace(go.Histogram(x=observation_vec[:, 0], nbinsx=30, histnorm='probability'), row=1, col=1)\n",
        "\n",
        "fig.add_trace(go.Histogram(x=observation_vec[:, 1], nbinsx=30, histnorm='probability'), row=1, col=2)\n",
        "\n",
        "fig.update_layout(barmode='overlay')\n",
        "fig.update_traces(opacity=0.75, showlegend=False)\n",
        "#fig.show()\n",
        "fig.write_image(\"artifacts/analysis2_1.png\")\n"
      ],
      "execution_count": null,
      "outputs": []
    },
    {
      "cell_type": "code",
      "metadata": {
        "id": "VgaVTi1-NVMQ"
      },
      "source": [
        "from scopyon.analysis import PTHMM"
      ],
      "execution_count": null,
      "outputs": []
    },
    {
      "cell_type": "code",
      "metadata": {
        "id": "g_VotHN1NVMS"
      },
      "source": [
        "rng = numpy.random.RandomState(seed)"
      ],
      "execution_count": null,
      "outputs": []
    },
    {
      "cell_type": "code",
      "metadata": {
        "id": "yoQsO4CPNVMU"
      },
      "source": [
        "model = PTHMM(n_diffusivities=3, n_oligomers=1, n_iter=100, random_state=rng)\n",
        "model.fit(observation_vec, lengths)"
      ],
      "execution_count": null,
      "outputs": []
    },
    {
      "cell_type": "code",
      "metadata": {
        "id": "Q6w_UrccNVMX"
      },
      "source": [
        "print(\"diffusivities=\\n\", model.diffusivities_)\n",
        "print(\"D=\\n\", pixel_length ** 2 * model.diffusivities_ / interval / 1e-12)"
      ],
      "execution_count": null,
      "outputs": []
    },
    {
      "cell_type": "code",
      "metadata": {
        "id": "qTMAYGqtNVMZ"
      },
      "source": [
        "print(\"intensity_means=\", model.intensity_means_)\n",
        "print(\"intensity_vars=\", model.intensity_vars_)"
      ],
      "execution_count": null,
      "outputs": []
    },
    {
      "cell_type": "code",
      "metadata": {
        "id": "fdkLM14CNVMb"
      },
      "source": [
        "print(\"startprob=\\n\", model.startprob_)"
      ],
      "execution_count": null,
      "outputs": []
    },
    {
      "cell_type": "code",
      "metadata": {
        "id": "atH6ybewNVMd"
      },
      "source": [
        "P = model.transmat_\n",
        "k = -numpy.log(1 - P) / interval\n",
        "k.ravel()[:: k.shape[0] + 1] = 0.0\n",
        "print(\"transmat=\\n\", model.transmat_)\n",
        "print(\"state_transition_matrix=\\n\", k)"
      ],
      "execution_count": null,
      "outputs": []
    },
    {
      "cell_type": "code",
      "metadata": {
        "id": "Jzncj-G0NVMg"
      },
      "source": [
        "expected_vec = numpy.zeros((sum(lengths), 2), dtype=observation_vec.dtype)\n",
        "for i in range(len(lengths)):\n",
        "    X_, Z_ = model.sample(lengths[i])\n",
        "    expected_vec[sum(lengths[: i]): sum(lengths[: i + 1])] = X_"
      ],
      "execution_count": null,
      "outputs": []
    },
    {
      "cell_type": "code",
      "metadata": {
        "id": "f8Roj_GRNVMi"
      },
      "source": [
        "fig = make_subplots(rows=1, cols=2, subplot_titles=['Square Displacement', 'Intensity'])\n",
        "\n",
        "fig.add_trace(go.Histogram(x=observation_vec[:, 0], nbinsx=30, histnorm='probability density'), row=1, col=1)\n",
        "fig.add_trace(go.Histogram(x=expected_vec[:, 0], nbinsx=30, histnorm='probability density'), row=1, col=1)\n",
        "\n",
        "fig.add_trace(go.Histogram(x=observation_vec[:, 1], nbinsx=30, histnorm='probability density'), row=1, col=2)\n",
        "fig.add_trace(go.Histogram(x=expected_vec[:, 1], nbinsx=30, histnorm='probability density'), row=1, col=2)\n",
        "\n",
        "fig.update_layout(barmode='overlay')\n",
        "fig.update_traces(opacity=0.75, showlegend=False)\n",
        "#fig.show()\n",
        "fig.write_image(\"artifacts/analysis2_2.png\")"
      ],
      "execution_count": null,
      "outputs": []
    },
    {
      "cell_type": "code",
      "metadata": {
        "id": "-sKrUzC3NVMk"
      },
      "source": [
        "log_artifacts(\"./artifacts\")\n",
        "mlflow.end_run()"
      ],
      "execution_count": null,
      "outputs": []
    }
  ]
}