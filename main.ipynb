{
  "nbformat": 4,
  "nbformat_minor": 0,
  "metadata": {
    "celltoolbar": "Tags",
    "kernelspec": {
      "display_name": "Python 3",
      "language": "python",
      "name": "python3"
    },
    "language_info": {
      "codemirror_mode": {
        "name": "ipython",
        "version": 3
      },
      "file_extension": ".py",
      "mimetype": "text/x-python",
      "name": "python",
      "nbconvert_exporter": "python",
      "pygments_lexer": "ipython3",
      "version": "3.8.3"
    },
    "colab": {
      "name": "main.ipynb",
      "provenance": []
    }
  },
  "cells": [
    {
      "cell_type": "code",
      "metadata": {
        "id": "7Lx0M-ZTEmfR",
        "outputId": "97b3552a-6592-4f82-b538-abaec14433bc"
      },
      "source": [
        "import mlflow\n",
        "mlflow.start_run(run_name=\"main\", nested=False)"
      ],
      "execution_count": null,
      "outputs": [
        {
          "output_type": "execute_result",
          "data": {
            "text/plain": [
              "<ActiveRun: >"
            ]
          },
          "metadata": {
            "tags": []
          },
          "execution_count": 1
        }
      ]
    },
    {
      "cell_type": "code",
      "metadata": {
        "tags": [
          "parameters"
        ],
        "id": "_UT3W_pTEmfV",
        "outputId": "f70be34d-c2d8-4e85-9ca8-f08815ed36e4"
      },
      "source": [
        "num_samples = 1\n",
        "num_frames = 5"
      ],
      "execution_count": null,
      "outputs": [
        {
          "output_type": "stream",
          "text": [
            "/home/azureuser/miniconda3/lib/python3.8/site-packages/ipykernel/ipkernel.py:287: DeprecationWarning: `should_run_async` will not call `transform_cell` automatically in the future. Please pass the result to `transformed_cell` argument and any exception that happen during thetransform in `preprocessing_exc_tuple` in IPython 7.17 and above.\n",
            "  and should_run_async(code)\n"
          ],
          "name": "stderr"
        }
      ]
    },
    {
      "cell_type": "code",
      "metadata": {
        "id": "Sbqxlvy0EmfY"
      },
      "source": [
        "from mlflow import log_metric, log_param, log_artifacts\n",
        "log_param(\"num_samples\", num_samples)\n",
        "log_param(\"num_frames\", num_frames)"
      ],
      "execution_count": null,
      "outputs": []
    },
    {
      "cell_type": "code",
      "metadata": {
        "id": "qJ8r2yfiEmfb"
      },
      "source": [
        "import pathlib\n",
        "artifacts = pathlib.Path(\"./artifacts\")\n",
        "artifacts.mkdir(parents=True, exist_ok=True)"
      ],
      "execution_count": null,
      "outputs": []
    },
    {
      "cell_type": "code",
      "metadata": {
        "id": "DzPdGO_JEmfd"
      },
      "source": [
        "import papermill as pm"
      ],
      "execution_count": null,
      "outputs": []
    },
    {
      "cell_type": "code",
      "metadata": {
        "id": "kcpRqZNaEmff",
        "outputId": "9abe0b2b-fd5f-4871-8349-d994d1fd5795",
        "colab": {
          "referenced_widgets": [
            "b83aa0dcf5a6432bb8093b5cf06ad18f"
          ]
        }
      },
      "source": [
        "_ = pm.execute_notebook(\n",
        "   'generation.ipynb',\n",
        "   str(artifacts / 'generation.ipynb'),\n",
        "   parameters=dict(num_samples=num_samples, num_frames=num_frames)\n",
        ")"
      ],
      "execution_count": null,
      "outputs": [
        {
          "output_type": "display_data",
          "data": {
            "application/vnd.jupyter.widget-view+json": {
              "model_id": "b83aa0dcf5a6432bb8093b5cf06ad18f",
              "version_major": 2,
              "version_minor": 0
            },
            "text/plain": [
              "HBox(children=(FloatProgress(value=0.0, description='Executing', max=17.0, style=ProgressStyle(description_wid…"
            ]
          },
          "metadata": {
            "tags": []
          }
        },
        {
          "output_type": "stream",
          "text": [
            "/home/azureuser/miniconda3/lib/python3.8/site-packages/traitlets/config/configurable.py:73: DeprecationWarning: Passing unrecoginized arguments to super(PapermillNotebookClient).__init__(input_path='generation.ipynb').\n",
            "object.__init__() takes exactly one argument (the instance to initialize)\n",
            "This is deprecated in traitlets 4.2.This error will be raised in a future release of traitlets.\n",
            "  super(Configurable, self).__init__(**kwargs)\n"
          ],
          "name": "stderr"
        },
        {
          "output_type": "stream",
          "text": [
            "\n"
          ],
          "name": "stdout"
        }
      ]
    },
    {
      "cell_type": "code",
      "metadata": {
        "id": "-4VQOacfEmfi",
        "outputId": "0ad8e59e-4cee-4e64-ec57-97fd83c1ec1d",
        "colab": {
          "referenced_widgets": [
            "c1b6f4f5de974673b48b616d754e9af6"
          ]
        }
      },
      "source": [
        "_ = pm.execute_notebook(\n",
        "   'analysis1.ipynb',\n",
        "   str(artifacts / 'analysis1.ipynb'),\n",
        "   parameters=dict(num_samples=num_samples, num_frames=num_frames)\n",
        ")"
      ],
      "execution_count": null,
      "outputs": [
        {
          "output_type": "stream",
          "text": [
            "/home/azureuser/miniconda3/lib/python3.8/site-packages/ipykernel/ipkernel.py:287: DeprecationWarning: `should_run_async` will not call `transform_cell` automatically in the future. Please pass the result to `transformed_cell` argument and any exception that happen during thetransform in `preprocessing_exc_tuple` in IPython 7.17 and above.\n",
            "  and should_run_async(code)\n"
          ],
          "name": "stderr"
        },
        {
          "output_type": "display_data",
          "data": {
            "application/vnd.jupyter.widget-view+json": {
              "model_id": "c1b6f4f5de974673b48b616d754e9af6",
              "version_major": 2,
              "version_minor": 0
            },
            "text/plain": [
              "HBox(children=(FloatProgress(value=0.0, description='Executing', max=11.0, style=ProgressStyle(description_wid…"
            ]
          },
          "metadata": {
            "tags": []
          }
        },
        {
          "output_type": "stream",
          "text": [
            "/home/azureuser/miniconda3/lib/python3.8/site-packages/traitlets/config/configurable.py:73: DeprecationWarning: Passing unrecoginized arguments to super(PapermillNotebookClient).__init__(input_path='analysis1.ipynb').\n",
            "object.__init__() takes exactly one argument (the instance to initialize)\n",
            "This is deprecated in traitlets 4.2.This error will be raised in a future release of traitlets.\n",
            "  super(Configurable, self).__init__(**kwargs)\n"
          ],
          "name": "stderr"
        },
        {
          "output_type": "stream",
          "text": [
            "\n"
          ],
          "name": "stdout"
        }
      ]
    },
    {
      "cell_type": "code",
      "metadata": {
        "id": "q45GLXvyEmfk",
        "outputId": "d2402588-94d4-4761-c33e-61f1c51271ec",
        "colab": {
          "referenced_widgets": [
            "47401af374ea456da6c35f96a495ad35"
          ]
        }
      },
      "source": [
        "_ = pm.execute_notebook(\n",
        "   'analysis2.ipynb',\n",
        "   str(artifacts / 'analysis2.ipynb'),\n",
        "   parameters=dict(num_samples=num_samples, num_frames=num_frames)\n",
        ")"
      ],
      "execution_count": null,
      "outputs": [
        {
          "output_type": "display_data",
          "data": {
            "application/vnd.jupyter.widget-view+json": {
              "model_id": "47401af374ea456da6c35f96a495ad35",
              "version_major": 2,
              "version_minor": 0
            },
            "text/plain": [
              "HBox(children=(FloatProgress(value=0.0, description='Executing', max=22.0, style=ProgressStyle(description_wid…"
            ]
          },
          "metadata": {
            "tags": []
          }
        },
        {
          "output_type": "stream",
          "text": [
            "/home/azureuser/miniconda3/lib/python3.8/site-packages/traitlets/config/configurable.py:73: DeprecationWarning: Passing unrecoginized arguments to super(PapermillNotebookClient).__init__(input_path='analysis2.ipynb').\n",
            "object.__init__() takes exactly one argument (the instance to initialize)\n",
            "This is deprecated in traitlets 4.2.This error will be raised in a future release of traitlets.\n",
            "  super(Configurable, self).__init__(**kwargs)\n"
          ],
          "name": "stderr"
        },
        {
          "output_type": "stream",
          "text": [
            "\n"
          ],
          "name": "stdout"
        }
      ]
    },
    {
      "cell_type": "code",
      "metadata": {
        "id": "AOrYjmefEmfn",
        "outputId": "f59de7c0-8613-45db-d5ae-ca830e77fc2e"
      },
      "source": [
        "!ls artifacts"
      ],
      "execution_count": null,
      "outputs": [
        {
          "output_type": "stream",
          "text": [
            "analysis1.ipynb   images000.npy  inputs001.npy\t   true_data001.npy\n",
            "analysis2.ipynb   images001.npy  inputs002.npy\t   true_data002.npy\n",
            "analysis2_1.png   images002.npy  inputs003.npy\t   true_data003.npy\n",
            "analysis2_2.png   images003.npy  inputs004.npy\t   true_data004.npy\n",
            "config.yaml\t  images004.npy  spots000.npy\n",
            "generation.ipynb  inputs000.npy  true_data000.npy\n"
          ],
          "name": "stdout"
        }
      ]
    },
    {
      "cell_type": "code",
      "metadata": {
        "id": "FUuBvd8OEmfp"
      },
      "source": [
        "log_artifacts(\"./artifacts\")"
      ],
      "execution_count": null,
      "outputs": []
    },
    {
      "cell_type": "code",
      "metadata": {
        "id": "mDcew4tMEmfr",
        "outputId": "c7aa9e83-4711-4884-e38b-40d971559aa2",
        "colab": {
          "referenced_widgets": [
            "e136f58b40a0432db6300e67f37cd4a8"
          ]
        }
      },
      "source": [
        "_ = pm.execute_notebook(\n",
        "   'evaluation1.ipynb',\n",
        "   str(artifacts / 'evaluation1.ipynb'),\n",
        "   parameters=dict(num_samples=num_samples)\n",
        ")"
      ],
      "execution_count": null,
      "outputs": [
        {
          "output_type": "display_data",
          "data": {
            "application/vnd.jupyter.widget-view+json": {
              "model_id": "e136f58b40a0432db6300e67f37cd4a8",
              "version_major": 2,
              "version_minor": 0
            },
            "text/plain": [
              "HBox(children=(FloatProgress(value=0.0, description='Executing', max=15.0, style=ProgressStyle(description_wid…"
            ]
          },
          "metadata": {
            "tags": []
          }
        },
        {
          "output_type": "stream",
          "text": [
            "/home/azureuser/miniconda3/lib/python3.8/site-packages/traitlets/config/configurable.py:73: DeprecationWarning: Passing unrecoginized arguments to super(PapermillNotebookClient).__init__(input_path='evaluation1.ipynb').\n",
            "object.__init__() takes exactly one argument (the instance to initialize)\n",
            "This is deprecated in traitlets 4.2.This error will be raised in a future release of traitlets.\n",
            "  super(Configurable, self).__init__(**kwargs)\n"
          ],
          "name": "stderr"
        },
        {
          "output_type": "stream",
          "text": [
            "\n"
          ],
          "name": "stdout"
        }
      ]
    },
    {
      "cell_type": "code",
      "metadata": {
        "id": "ck4bGyMoEmft"
      },
      "source": [
        "mlflow.end_run()"
      ],
      "execution_count": null,
      "outputs": []
    }
  ]
}