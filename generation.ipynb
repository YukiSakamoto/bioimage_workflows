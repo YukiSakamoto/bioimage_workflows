{
 "cells": [
  {
   "cell_type": "markdown",
   "metadata": {},
   "source": [
    "!pip uninstall -y scopyon\n",
    "!pip install git+https://github.com/ecell/scopyon\n",
    "!pip freeze | grep scopyon"
   ]
  },
  {
   "cell_type": "code",
   "execution_count": 1,
   "metadata": {},
   "outputs": [
    {
     "data": {
      "text/plain": [
       "<ActiveRun: >"
      ]
     },
     "execution_count": 1,
     "metadata": {},
     "output_type": "execute_result"
    }
   ],
   "source": [
    "import mlflow\n",
    "mlflow.start_run(run_name=\"generation\", nested=True)"
   ]
  },
  {
   "cell_type": "code",
   "execution_count": 2,
   "metadata": {
    "tags": [
     "parameters"
    ]
   },
   "outputs": [
    {
     "name": "stderr",
     "output_type": "stream",
     "text": [
      "/home/azureuser/miniconda3/lib/python3.8/site-packages/ipykernel/ipkernel.py:287: DeprecationWarning: `should_run_async` will not call `transform_cell` automatically in the future. Please pass the result to `transformed_cell` argument and any exception that happen during thetransform in `preprocessing_exc_tuple` in IPython 7.17 and above.\n",
      "  and should_run_async(code)\n"
     ]
    }
   ],
   "source": [
    "seed = 123\n",
    "num_samples = 5\n",
    "exposure_time = 33.0e-3\n",
    "interval = 33.0e-3\n",
    "num_frames = 10\n",
    "Nm = [100, 100, 100]\n",
    "Dm = [0.222e-12, 0.032e-12, 0.008e-12]\n",
    "transmat = [\n",
    "    [0.0, 0.5, 0.0],\n",
    "    [0.5, 0.0, 0.2],\n",
    "    [0.0, 1.0, 0.0]]"
   ]
  },
  {
   "cell_type": "code",
   "execution_count": 3,
   "metadata": {},
   "outputs": [],
   "source": [
    "from mlflow import log_metric, log_param, log_artifacts\n",
    "log_param(\"seed\", seed)\n",
    "log_param(\"num_samples\", num_samples)\n",
    "log_param(\"exposure_time\", exposure_time)\n",
    "log_param(\"interval\", interval)\n",
    "log_param(\"num_frames\", num_frames)"
   ]
  },
  {
   "cell_type": "code",
   "execution_count": 4,
   "metadata": {},
   "outputs": [],
   "source": [
    "nproc = 8"
   ]
  },
  {
   "cell_type": "code",
   "execution_count": 5,
   "metadata": {},
   "outputs": [],
   "source": [
    "# !pip install mlflow"
   ]
  },
  {
   "cell_type": "code",
   "execution_count": 6,
   "metadata": {},
   "outputs": [],
   "source": [
    "import numpy\n",
    "rng = numpy.random.RandomState(seed)"
   ]
  },
  {
   "cell_type": "code",
   "execution_count": 7,
   "metadata": {},
   "outputs": [],
   "source": [
    "import scopyon"
   ]
  },
  {
   "cell_type": "code",
   "execution_count": 8,
   "metadata": {},
   "outputs": [
    {
     "name": "stderr",
     "output_type": "stream",
     "text": [
      "/home/azureuser/miniconda3/lib/python3.8/site-packages/ipykernel/ipkernel.py:287: DeprecationWarning: `should_run_async` will not call `transform_cell` automatically in the future. Please pass the result to `transformed_cell` argument and any exception that happen during thetransform in `preprocessing_exc_tuple` in IPython 7.17 and above.\n",
      "  and should_run_async(code)\n"
     ]
    },
    {
     "data": {
      "text/plain": [
       "1.6995850622406638e-05"
      ]
     },
     "execution_count": 8,
     "metadata": {},
     "output_type": "execute_result"
    }
   ],
   "source": [
    "config = scopyon.DefaultConfiguration()\n",
    "config.default.effects.photo_bleaching.switch = False\n",
    "config.default.detector.exposure_time = exposure_time\n",
    "pixel_length = config.default.detector.pixel_length / config.default.magnification\n",
    "L_2 = config.default.detector.image_size[0] * pixel_length * 0.5\n",
    "L_2"
   ]
  },
  {
   "cell_type": "code",
   "execution_count": 9,
   "metadata": {},
   "outputs": [],
   "source": [
    "config.environ.processes = nproc"
   ]
  },
  {
   "cell_type": "code",
   "execution_count": 10,
   "metadata": {},
   "outputs": [],
   "source": [
    "timepoints = numpy.linspace(0, interval * num_frames, num_frames + 1)\n",
    "ndim = 2"
   ]
  },
  {
   "cell_type": "code",
   "execution_count": 11,
   "metadata": {},
   "outputs": [],
   "source": [
    "import pathlib\n",
    "artifacts = pathlib.Path(\"./artifacts\")\n",
    "artifacts.mkdir(parents=True, exist_ok=True)"
   ]
  },
  {
   "cell_type": "code",
   "execution_count": 12,
   "metadata": {},
   "outputs": [],
   "source": [
    "config.save(artifacts / 'config.yaml')"
   ]
  },
  {
   "cell_type": "code",
   "execution_count": 13,
   "metadata": {},
   "outputs": [
    {
     "name": "stderr",
     "output_type": "stream",
     "text": [
      "/home/azureuser/miniconda3/lib/python3.8/asyncio/events.py:81: DeprecationWarning: `run_cell_async` will not call `transform_cell` automatically in the future. Please pass the result to `transformed_cell` argument and any exception that happen during thetransform in `preprocessing_exc_tuple` in IPython 7.17 and above.\n",
      "  self._context.run(self._callback, *self._args)\n"
     ]
    }
   ],
   "source": [
    "for i in range(num_samples):\n",
    "    samples = scopyon.sample(timepoints, N=Nm, lower=-L_2, upper=+L_2, ndim=ndim, D=Dm, transmat=transmat, rng=rng)\n",
    "    inputs = [(t, numpy.hstack((points[:, : ndim], points[:, [ndim + 1]], numpy.ones((points.shape[0], 1), dtype=numpy.float64)))) for t, points in zip(timepoints, samples)]\n",
    "    ret = list(scopyon.generate_images(inputs, num_frames=num_frames, config=config, rng=rng, full_output=True))\n",
    "    \n",
    "    inputs_ = []\n",
    "    for t, data in inputs:\n",
    "        inputs_.extend(([t] + list(row) for row in data))\n",
    "    inputs_ = numpy.array(inputs_)\n",
    "    numpy.save(artifacts / f\"inputs{i:03d}.npy\", inputs_)\n",
    "\n",
    "    numpy.save(artifacts / f\"images{i:03d}.npy\", numpy.array([img.as_array() for img, infodict in ret]))\n",
    "\n",
    "    true_data = []\n",
    "    for t, (_, infodict) in zip(timepoints, ret):\n",
    "        true_data.extend([t, key] + list(value) for key, value in infodict['true_data'].items())\n",
    "    true_data = numpy.array(true_data)\n",
    "    numpy.save(artifacts / f\"true_data{i:03d}.npy\", true_data)"
   ]
  },
  {
   "cell_type": "code",
   "execution_count": 15,
   "metadata": {},
   "outputs": [
    {
     "name": "stdout",
     "output_type": "stream",
     "text": [
      "config.yaml    images003.npy  inputs002.npy\ttrue_data001.npy\n",
      "images000.npy  images004.npy  inputs003.npy\ttrue_data002.npy\n",
      "images001.npy  inputs000.npy  inputs004.npy\ttrue_data003.npy\n",
      "images002.npy  inputs001.npy  true_data000.npy\ttrue_data004.npy\n"
     ]
    }
   ],
   "source": [
    "!ls ./artifacts"
   ]
  },
  {
   "cell_type": "code",
   "execution_count": 14,
   "metadata": {},
   "outputs": [],
   "source": [
    "log_artifacts(\"./artifacts\")\n",
    "mlflow.end_run()"
   ]
  }
 ],
 "metadata": {
  "celltoolbar": "Tags",
  "kernelspec": {
   "display_name": "Python 3",
   "language": "python",
   "name": "python3"
  },
  "language_info": {
   "codemirror_mode": {
    "name": "ipython",
    "version": 3
   },
   "file_extension": ".py",
   "mimetype": "text/x-python",
   "name": "python",
   "nbconvert_exporter": "python",
   "pygments_lexer": "ipython3",
   "version": "3.8.3"
  }
 },
 "nbformat": 4,
 "nbformat_minor": 4
}
