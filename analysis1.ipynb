{
  "nbformat": 4,
  "nbformat_minor": 0,
  "metadata": {
    "celltoolbar": "Tags",
    "kernelspec": {
      "display_name": "Python 3",
      "language": "python",
      "name": "python3"
    },
    "language_info": {
      "codemirror_mode": {
        "name": "ipython",
        "version": 3
      },
      "file_extension": ".py",
      "mimetype": "text/x-python",
      "name": "python",
      "nbconvert_exporter": "python",
      "pygments_lexer": "ipython3",
      "version": "3.8.3"
    },
    "colab": {
      "name": "analysis1.ipynb",
      "provenance": []
    }
  },
  "cells": [
    {
      "cell_type": "code",
      "metadata": {
        "id": "hPvlgdsOEMQy"
      },
      "source": [
        "import mlflow\n",
        "mlflow.start_run(run_name=\"analysis1\", nested=True)"
      ],
      "execution_count": null,
      "outputs": []
    },
    {
      "cell_type": "code",
      "metadata": {
        "tags": [
          "parameters"
        ],
        "id": "RWrW9MAtEMQ0"
      },
      "source": [
        "num_samples = 3\n",
        "interval = 33.0e-3\n",
        "num_frames = 100\n",
        "min_sigma = 1\n",
        "max_sigma = 4\n",
        "threshold = 50.0\n",
        "overlap = 0.5\n",
        "generated_data = \"./artifacts\""
      ],
      "execution_count": null,
      "outputs": []
    },
    {
      "cell_type": "code",
      "metadata": {
        "id": "hedYadLaEMQ2"
      },
      "source": [
        "from mlflow import log_metric, log_param, log_artifacts\n",
        "log_param(\"num_samples\", num_samples)\n",
        "log_param(\"interval\", interval)\n",
        "log_param(\"num_frames\", num_frames)\n",
        "log_param(\"min_sigma\", min_sigma)\n",
        "log_param(\"max_sigma\", max_sigma)\n",
        "log_param(\"threshold\", threshold)\n",
        "log_param(\"overlap\", overlap)"
      ],
      "execution_count": null,
      "outputs": []
    },
    {
      "cell_type": "code",
      "metadata": {
        "id": "qQ68ZvXAEMQ5"
      },
      "source": [
        "nproc = 8"
      ],
      "execution_count": null,
      "outputs": []
    },
    {
      "cell_type": "code",
      "metadata": {
        "id": "xzW64I99EMQ7"
      },
      "source": [
        "import numpy\n",
        "timepoints = numpy.linspace(0, interval * num_frames, num_frames + 1)"
      ],
      "execution_count": null,
      "outputs": []
    },
    {
      "cell_type": "code",
      "metadata": {
        "id": "-9iIRQENEMQ9"
      },
      "source": [
        "import pathlib\n",
        "inputpath = pathlib.Path(generated_data.replace(\"file://\", \"\"))\n",
        "artifacts = pathlib.Path(generated_data.replace(\"file://\", \"\"))\n",
        "artifacts.mkdir(parents=True, exist_ok=True)"
      ],
      "execution_count": null,
      "outputs": []
    },
    {
      "cell_type": "code",
      "metadata": {
        "id": "z6BzKEjbEMQ_"
      },
      "source": [
        "import scopyon"
      ],
      "execution_count": null,
      "outputs": []
    },
    {
      "cell_type": "code",
      "metadata": {
        "id": "70h7EMIEEMRB",
        "outputId": "a7c4b1c9-0dec-4c04-a1a8-859d3f930160"
      },
      "source": [
        "import warnings\n",
        "warnings.simplefilter('ignore', RuntimeWarning)\n",
        "\n",
        "for i in range(num_samples):\n",
        "    imgs = [scopyon.Image(data) for data in numpy.load(inputpath / f\"images{i:03d}.npy\")]\n",
        "    spots = [\n",
        "        scopyon.analysis.spot_detection(\n",
        "            img.as_array(), processes=nproc,\n",
        "            min_sigma=min_sigma, max_sigma=max_sigma, threshold=threshold, overlap=overlap)\n",
        "        for img in imgs]\n",
        "\n",
        "    spots_ = []\n",
        "    for t, data in zip(timepoints, spots):\n",
        "        spots_.extend(([t] + list(row) for row in data))\n",
        "    spots_ = numpy.array(spots_)\n",
        "    numpy.save(artifacts / f\"spots{i:03d}.npy\", spots_)\n",
        "    \n",
        "    print(\"{} spots are detected in {} frames.\".format(len(spots_), len(imgs)))\n",
        "\n",
        "warnings.resetwarnings()"
      ],
      "execution_count": null,
      "outputs": [
        {
          "output_type": "stream",
          "text": [
            "19194 spots are detected in 150 frames.\n",
            "18663 spots are detected in 150 frames.\n",
            "18457 spots are detected in 150 frames.\n"
          ],
          "name": "stdout"
        }
      ]
    },
    {
      "cell_type": "code",
      "metadata": {
        "id": "jofaof25EMRE",
        "outputId": "84bea556-0958-4049-fc46-652a78788425"
      },
      "source": [
        "!ls ./artifacts"
      ],
      "execution_count": null,
      "outputs": [
        {
          "output_type": "stream",
          "text": [
            "analysis1.ipynb  images011.npy\timages025.npy  inputs009.npy  inputs023.npy\n",
            "analysis2.ipynb  images012.npy\timages026.npy  inputs010.npy  inputs024.npy\n",
            "config.yaml\t images013.npy\timages027.npy  inputs011.npy  inputs025.npy\n",
            "images000.npy\t images014.npy\timages028.npy  inputs012.npy  inputs026.npy\n",
            "images001.npy\t images015.npy\timages029.npy  inputs013.npy  inputs027.npy\n",
            "images002.npy\t images016.npy\tinputs000.npy  inputs014.npy  inputs028.npy\n",
            "images003.npy\t images017.npy\tinputs001.npy  inputs015.npy  inputs029.npy\n",
            "images004.npy\t images018.npy\tinputs002.npy  inputs016.npy  spots000.npy\n",
            "images005.npy\t images019.npy\tinputs003.npy  inputs017.npy  spots001.npy\n",
            "images006.npy\t images020.npy\tinputs004.npy  inputs018.npy  spots002.npy\n",
            "images007.npy\t images021.npy\tinputs005.npy  inputs019.npy\n",
            "images008.npy\t images022.npy\tinputs006.npy  inputs020.npy\n",
            "images009.npy\t images023.npy\tinputs007.npy  inputs021.npy\n",
            "images010.npy\t images024.npy\tinputs008.npy  inputs022.npy\n"
          ],
          "name": "stdout"
        }
      ]
    },
    {
      "cell_type": "code",
      "metadata": {
        "id": "BBVipXvvEMRG"
      },
      "source": [
        "log_artifacts(\"./artifacts\")\n",
        "mlflow.end_run()"
      ],
      "execution_count": null,
      "outputs": []
    }
  ]
}